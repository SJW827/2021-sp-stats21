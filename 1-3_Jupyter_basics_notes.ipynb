{
 "cells": [
  {
   "cell_type": "markdown",
   "metadata": {
    "slideshow": {
     "slide_type": "slide"
    }
   },
   "source": [
    "# Introduction to Jupyter and IPython\n",
    "\n",
    "## Week 1 Friday\n",
    "\n",
    "## Miles Chen, PhD"
   ]
  },
  {
   "cell_type": "markdown",
   "metadata": {
    "slideshow": {
     "slide_type": "slide"
    }
   },
   "source": [
    "# Jupyter Lab and Jupyter Notebooks\n",
    "\n",
    "There are many ways to run Python. \n",
    "\n",
    "You can run it directly in the Python interpreter in interactive mode. This is generally not recommended for doing anything other than checking a few values or expressions.\n",
    "\n",
    "Another option is to use a text editor to write scripts and to run the scripts from the command line.\n",
    "\n",
    "Others use an integrated development environment (IDE) like PyCharm.\n",
    "\n",
    "Jupyter Lab is an browser-based IDE centered around Notebooks. Jupyter Notebooks have combine markdown and Python code to create a document, much like an R-Markdown file and is a popular choice for data science work.\n",
    "\n",
    "Jupyter comes pre-installed with the Anaconda distribution. You can launch Jupyter Lab from the prompt by typing in `jupyter lab` . Alternatively, you can launch Jupyter Notebook alone with `jupyter notebook`"
   ]
  },
  {
   "cell_type": "markdown",
   "metadata": {
    "slideshow": {
     "slide_type": "slide"
    }
   },
   "source": [
    "## Jupyter has two modes: \n",
    "\n",
    "### command mode\n",
    "\n",
    "- Type `Esc` to enter command mode\n",
    "\n",
    "### edit mode\n",
    "\n",
    "- Type `Enter`/`Return` to enter edit mode\n",
    "\n",
    "### Don't mix up command mode and edit mode."
   ]
  },
  {
   "cell_type": "markdown",
   "metadata": {
    "slideshow": {
     "slide_type": "slide"
    }
   },
   "source": [
    "# Keyboard Shortcuts\n",
    "\n",
    "You really need to learn and use the keyboard shortcuts if you want to gain speed and proficiency. Try to do as much as you can without touching your mouse or trackpad.\n",
    "\n",
    "## Adding Cells (command mode)\n",
    "\n",
    "- Type **b** to add a new cell below your current cell.\n",
    "- Type **a** to add a new cell above your current cell.\n",
    "\n",
    "## Deleting Cells (command mode)\n",
    "\n",
    "- Type **dd** to delete a cell. That is type the letter d twice."
   ]
  },
  {
   "cell_type": "markdown",
   "metadata": {
    "slideshow": {
     "slide_type": "slide"
    }
   },
   "source": [
    "# Keyboard Shortcuts\n",
    "\n",
    "## Cut, Copy, Paste (command mode)\n",
    "\n",
    "While you have a cell selected in command mode, you can use\n",
    "- **x** to cut\n",
    "- **c** to copyb\n",
    "- **v** to paste (it will paste the cell below the selected cell)\n",
    "\n",
    "Don't hold ctrl, just type the letter."
   ]
  },
  {
   "cell_type": "markdown",
   "metadata": {
    "slideshow": {
     "slide_type": "slide"
    }
   },
   "source": [
    "## Navigating (command mode)\n",
    "\n",
    "- You can use the up or down arrows to switch cells.\n",
    "- If you don't want to leave your home row, you can also use **j or k** to move up and down."
   ]
  },
  {
   "cell_type": "markdown",
   "metadata": {
    "slideshow": {
     "slide_type": "slide"
    }
   },
   "source": [
    "# Jupyter has three types of cells:\n",
    "- Markdown Cells\n",
    "    - used for text\n",
    "- Code Cells\n",
    "    - used to run code\n",
    "- raw cells (used infrequently)\n",
    "\n",
    "While in command mode, you can convert a cell to markdown by typing **m** \n",
    "\n",
    "You can convert a cell to code by typing **y**"
   ]
  },
  {
   "cell_type": "markdown",
   "metadata": {
    "slideshow": {
     "slide_type": "slide"
    }
   },
   "source": [
    "# heading level 1 starts with `#`\n",
    "## heading level 2 starts with `##`\n",
    "### heading level 3 starts with `###`\n",
    "#### heading level 4 starts with `####`\n",
    "##### heading level 5 starts with `#####`\n",
    "###### heading level 6 starts with `######` \n",
    "####### if you try to use 7 `#` symbols, it becomes normal text"
   ]
  },
  {
   "cell_type": "markdown",
   "metadata": {
    "slideshow": {
     "slide_type": "slide"
    }
   },
   "source": [
    "# Markdown basics\n",
    "\n",
    "https://commonmark.org/help/tutorial/\n",
    "\n",
    "\n",
    "Use # symbols to indicate headings. \n",
    "~~~\n",
    "# When rendered, this would be a top level heading.\n",
    "~~~\n",
    "Make bulleted lists by using hyphens\n",
    "~~~\n",
    "- item 1\n",
    "- item 2\n",
    "~~~\n",
    "If you want to include code, you can indicate to markdown not to render by using the back\n",
    "accent  \\` at the beginning and \n",
    "end of one line, or use three tildes ~ to indicate a code chunk.\n",
    "\n",
    "Use asterisks * for emphasis. \n",
    "Put on asterisk around a word or phrase to `*italicize*` it. \n",
    "Use two asterisks to make it `**bold**`.\n"
   ]
  },
  {
   "cell_type": "markdown",
   "metadata": {
    "slideshow": {
     "slide_type": "slide"
    }
   },
   "source": [
    "\n",
    "Include math by using dollar signs. One dollar sign for in-line math symbols. Two dollar signs for stand-alone math equations.\n",
    "\n",
    "For example, you can talk about $\\pi$ using in-line math.\n",
    "\n",
    "You write an equation like\n",
    "~~~\n",
    "$$E = mc^2$$\n",
    "~~~\n",
    "Or a more complex equation like:\n",
    "~~~\n",
    "$$\\phi(x) = \\frac{1}{\\sigma \\sqrt{2 \\pi}} \\exp{ \n",
    "    \\left( \\frac{-1}{2} \\left ( \\frac{x - \\mu}{\\sigma} \\right )^2 \\right)} $$\n",
    "~~~\n",
    "\n",
    "Equation:\n",
    "\n",
    "$$E = mc^2$$\n",
    "\n",
    "$$\\phi(x) = \\frac{1}{\\sigma \\sqrt{2 \\pi}} \\exp{ \n",
    "    \\left( \\frac{-1}{2} \\left ( \\frac{x - \\mu}{\\sigma} \\right )^2 \\right)} $$"
   ]
  },
  {
   "cell_type": "markdown",
   "metadata": {
    "slideshow": {
     "slide_type": "slide"
    }
   },
   "source": [
    "# Running or Rendering Cells\n",
    "\n",
    "You can run a code cell with **Shift+Enter**. This will run the selected cell and then advance to the next cell. If you are at the last cell, it will insert another cell below it.\n",
    "\n",
    "If you want to run the current cell but do not want to advance to the next cell, use **Ctrl+Enter**. This will run the currently selected cell only.\n",
    "\n",
    "**Alt-Enter** or **Option+Enter** renders/runs the current cell and inserts a new cell below it."
   ]
  },
  {
   "cell_type": "markdown",
   "metadata": {
    "slideshow": {
     "slide_type": "slide"
    }
   },
   "source": [
    "# IPython\n",
    "\n",
    "Jupyter runs on IPython.\n",
    "\n",
    "As you write code in a code cell, you can use some of the nice features of IPython"
   ]
  },
  {
   "cell_type": "code",
   "execution_count": 1,
   "metadata": {
    "slideshow": {
     "slide_type": "slide"
    }
   },
   "outputs": [
    {
     "data": {
      "text/plain": [
       "5"
      ]
     },
     "execution_count": 1,
     "metadata": {},
     "output_type": "execute_result"
    }
   ],
   "source": [
    "# basic operations\n",
    "2 + 3"
   ]
  },
  {
   "cell_type": "code",
   "execution_count": 2,
   "metadata": {
    "slideshow": {
     "slide_type": "fragment"
    }
   },
   "outputs": [
    {
     "data": {
      "text/plain": [
       "25"
      ]
     },
     "execution_count": 2,
     "metadata": {},
     "output_type": "execute_result"
    }
   ],
   "source": [
    "# if you have multiple operations in a cell, only the last expression will be printed\n",
    "4 + 5\n",
    "5 * 5"
   ]
  },
  {
   "cell_type": "code",
   "execution_count": 3,
   "metadata": {
    "slideshow": {
     "slide_type": "fragment"
    }
   },
   "outputs": [
    {
     "name": "stdout",
     "output_type": "stream",
     "text": [
      "9\n",
      "25\n"
     ]
    }
   ],
   "source": [
    "# if you want to the other stuff to appear, you need to use print() commands\n",
    "print(4 + 5)\n",
    "print(5 * 5)\n",
    "\n",
    "# note that when you do this, there is no Out[ ] for the cell."
   ]
  },
  {
   "cell_type": "markdown",
   "metadata": {
    "slideshow": {
     "slide_type": "slide"
    }
   },
   "source": [
    "## Features of IPython: `In` and `Out`\n",
    "\n",
    "IPython cells are preceeded by an In[1] or an Out[1].\n",
    "\n",
    "These show the sequence you write code, but also allows you to access past entries and values"
   ]
  },
  {
   "cell_type": "code",
   "execution_count": 4,
   "metadata": {
    "slideshow": {
     "slide_type": "fragment"
    }
   },
   "outputs": [
    {
     "data": {
      "text/plain": [
       "'# basic operations\\n2 + 3'"
      ]
     },
     "execution_count": 4,
     "metadata": {},
     "output_type": "execute_result"
    }
   ],
   "source": [
    "In[1] # even if In[1] was rerun (In[1]->In[29]), In[1] is still in the history"
   ]
  },
  {
   "cell_type": "code",
   "execution_count": 5,
   "metadata": {
    "slideshow": {
     "slide_type": "fragment"
    }
   },
   "outputs": [
    {
     "data": {
      "text/plain": [
       "25"
      ]
     },
     "execution_count": 5,
     "metadata": {},
     "output_type": "execute_result"
    }
   ],
   "source": [
    "Out[2]"
   ]
  },
  {
   "cell_type": "code",
   "execution_count": 6,
   "metadata": {
    "slideshow": {
     "slide_type": "slide"
    }
   },
   "outputs": [
    {
     "data": {
      "text/plain": [
       "{1: 5, 2: 25, 4: '# basic operations\\n2 + 3', 5: 25}"
      ]
     },
     "execution_count": 6,
     "metadata": {},
     "output_type": "execute_result"
    }
   ],
   "source": [
    "# Out is a dictionary {output#: output value}\n",
    "Out \n",
    "# those print() doesnt have Out, so wont be shown"
   ]
  },
  {
   "cell_type": "code",
   "execution_count": 7,
   "metadata": {
    "slideshow": {
     "slide_type": "fragment"
    }
   },
   "outputs": [
    {
     "data": {
      "text/plain": [
       "['',\n",
       " '# basic operations\\n2 + 3',\n",
       " '# if you have multiple operations in a cell, only the last expression will be printed\\n4 + 5\\n5 * 5',\n",
       " '# if you want to the other stuff to appear, you need to use print() commands\\nprint(4 + 5)\\nprint(5 * 5)\\n\\n# note that when you do this, there is no Out[ ] for the cell.',\n",
       " 'In[1] # even if In[1] was rerun (In[1]->In[29]), In[1] is still in the history',\n",
       " 'Out[2]',\n",
       " '# Out is a dictionary\\nOut \\n# those print() doesnt have Out, so wont be shown',\n",
       " '# In is a list\\nIn']"
      ]
     },
     "execution_count": 7,
     "metadata": {},
     "output_type": "execute_result"
    }
   ],
   "source": [
    "# In is a list [list out anything in In[#]]\n",
    "In"
   ]
  },
  {
   "cell_type": "markdown",
   "metadata": {
    "slideshow": {
     "slide_type": "slide"
    }
   },
   "source": [
    "## \"math operations\" with strings"
   ]
  },
  {
   "cell_type": "code",
   "execution_count": 8,
   "metadata": {
    "slideshow": {
     "slide_type": "fragment"
    }
   },
   "outputs": [
    {
     "data": {
      "text/plain": [
       "'hello!hello!hello!'"
      ]
     },
     "execution_count": 8,
     "metadata": {},
     "output_type": "execute_result"
    }
   ],
   "source": [
    "# multiplication repeats the string\n",
    "3 * 'hello!'"
   ]
  },
  {
   "cell_type": "code",
   "execution_count": 9,
   "metadata": {
    "slideshow": {
     "slide_type": "fragment"
    }
   },
   "outputs": [
    {
     "data": {
      "text/plain": [
       "'higoodbye'"
      ]
     },
     "execution_count": 9,
     "metadata": {},
     "output_type": "execute_result"
    }
   ],
   "source": [
    "# addition concatenates strings\n",
    "\"hi\" + \"goodbye\""
   ]
  },
  {
   "cell_type": "markdown",
   "metadata": {
    "slideshow": {
     "slide_type": "slide"
    }
   },
   "source": [
    "# Executing Scripts from Jupyter\n",
    "\n",
    "You can use the `%run` to execute python scripts stored in separate files.\n",
    "For example, I have a simple script that simply prints hello world stored in a script"
   ]
  },
  {
   "cell_type": "code",
   "execution_count": 9,
   "metadata": {
    "slideshow": {
     "slide_type": "fragment"
    }
   },
   "outputs": [
    {
     "name": "stdout",
     "output_type": "stream",
     "text": [
      "hello world\n",
      "hello IPython\n"
     ]
    }
   ],
   "source": [
    "# just like %include xxx in SAS\n",
    "%run script01.py"
   ]
  },
  {
   "cell_type": "markdown",
   "metadata": {
    "slideshow": {
     "slide_type": "slide"
    }
   },
   "source": [
    "### Accessing variables defined in the notebook:\n",
    "\n",
    "If you want the script to have access to variables that you have defined in the notebook, use `%run -i`"
   ]
  },
  {
   "cell_type": "code",
   "execution_count": 11,
   "metadata": {
    "slideshow": {
     "slide_type": "fragment"
    }
   },
   "outputs": [],
   "source": [
    "name = 'Miles'"
   ]
  },
  {
   "cell_type": "code",
   "execution_count": 12,
   "metadata": {
    "slideshow": {
     "slide_type": "fragment"
    }
   },
   "outputs": [
    {
     "ename": "NameError",
     "evalue": "name 'name' is not defined",
     "output_type": "error",
     "traceback": [
      "\u001b[0;31m---------------------------------------------------------------------------\u001b[0m",
      "\u001b[0;31mNameError\u001b[0m                                 Traceback (most recent call last)",
      "\u001b[0;32m~/Desktop/Stats/Stats21/2021-sp-stats21/script02.py\u001b[0m in \u001b[0;36m<module>\u001b[0;34m\u001b[0m\n\u001b[0;32m----> 1\u001b[0;31m \u001b[0mprint\u001b[0m\u001b[0;34m(\u001b[0m\u001b[0;34m'hello '\u001b[0m \u001b[0;34m+\u001b[0m \u001b[0mname\u001b[0m\u001b[0;34m)\u001b[0m\u001b[0;34m\u001b[0m\u001b[0;34m\u001b[0m\u001b[0m\n\u001b[0m\u001b[1;32m      2\u001b[0m \u001b[0mprint\u001b[0m\u001b[0;34m(\u001b[0m\u001b[0;34m\"It's Friday!\"\u001b[0m\u001b[0;34m)\u001b[0m\u001b[0;34m\u001b[0m\u001b[0;34m\u001b[0m\u001b[0m\n",
      "\u001b[0;31mNameError\u001b[0m: name 'name' is not defined"
     ]
    }
   ],
   "source": [
    "# .py per se is a stand-alone script/environment \n",
    "# it doesnt have access to the immediate environment we are\n",
    "# and it doesnt retrieve variable from anywhere outside of it\n",
    "\n",
    "%run script02.py"
   ]
  },
  {
   "cell_type": "code",
   "execution_count": 13,
   "metadata": {
    "slideshow": {
     "slide_type": "fragment"
    }
   },
   "outputs": [
    {
     "name": "stdout",
     "output_type": "stream",
     "text": [
      "hello Miles\n",
      "It's Friday!\n"
     ]
    }
   ],
   "source": [
    "# -i => give the .py script access to the variables in the immediate environment\n",
    "# inside the notebook\n",
    "\n",
    "# -i => when .py script runs, give it access to the same environment of all the \n",
    "#       variables that exist inside the notebook\n",
    "\n",
    "%run -i script02.py"
   ]
  },
  {
   "cell_type": "markdown",
   "metadata": {
    "slideshow": {
     "slide_type": "slide"
    }
   },
   "source": [
    "### Using bash/shell/cmd commands within a jupyter notebook\n",
    "\n",
    "You can use bash commands like `cat` which displays the contents of a file by preceeding the command with an exclamation point.\n",
    "The commands you can use will be different for windows or unix based (mac) machines. For example, there is no `cat` command in windows, and you must use `type`"
   ]
  },
  {
   "cell_type": "code",
   "execution_count": 14,
   "metadata": {
    "slideshow": {
     "slide_type": "fragment"
    }
   },
   "outputs": [
    {
     "name": "stdout",
     "output_type": "stream",
     "text": [
      "print('hello ' + name)\n",
      "print(\"It's Friday!\")"
     ]
    }
   ],
   "source": [
    "# mac/linux\n",
    "!cat script02.py"
   ]
  },
  {
   "cell_type": "code",
   "execution_count": 16,
   "metadata": {},
   "outputs": [
    {
     "name": "stdout",
     "output_type": "stream",
     "text": [
      "1-1_Class_Welcome.pdf\n",
      "1-2_Git_basics.pdf\n",
      "1-3_Jupyter_basics.ipynb\n",
      "1-3_Jupyter_basics.pdf\n",
      "1-3_Jupyter_basics.slides.html\n",
      "1-3_Jupyter_basics_notes.ipynb\n",
      "10-1_Intro_SQL.ipynb\n",
      "2-1_Basic_Data_Types.ipynb\n",
      "2-1_Basic_Data_Types.pdf\n",
      "2-1_Basic_Data_Types.slides.html\n",
      "2-2_Functions_in_Python.ipynb\n",
      "2-2_Functions_in_Python.pdf\n",
      "2-2_Functions_in_Python.slides.html\n",
      "2-3_Flow_control_Lists.ipynb\n",
      "2-3_Flow_control_Lists.pdf\n",
      "2-3_Flow_control_Lists.slides.html\n",
      "3-1_Lists_and_strings.ipynb\n",
      "3-1_Lists_and_strings.pdf\n",
      "3-1_Lists_and_strings.slides.html\n",
      "3-2_Dictionaries.ipynb\n",
      "3-2_Dictionaries.pdf\n",
      "3-2_Dictionaries.slides.html\n",
      "3-3_Tuples.ipynb\n",
      "3-3_Tuples.pdf\n",
      "3-3_Tuples.slides.html\n",
      "4-1_Numpy_Basics.ipynb\n",
      "4-1_Numpy_Basics.pdf\n",
      "4-1_Numpy_Basics.slides.html\n",
      "4-2_Numpy_Part2.ipynb\n",
      "4-2_Numpy_Part2.pdf\n",
      "4-2_Numpy_Part2.slides.html\n",
      "4-3_Working_with_files.ipynb\n",
      "4-3_Working_with_files.pdf\n",
      "4-3_Working_with_files.slides.html\n",
      "5-1_Pandas_Basics.ipynb\n",
      "5-1_Pandas_Basics.pdf\n",
      "5-1_Pandas_Basics.slides.html\n",
      "5-2_Pandas_indexing.ipynb\n",
      "5-2_Pandas_indexing.pdf\n",
      "5-2_Pandas_indexing.slides.html\n",
      "5-3_Pandas_pivot_and_group_by.ipynb\n",
      "5-3_Pandas_pivot_and_group_by.pdf\n",
      "5-3_Pandas_pivot_and_group_by.slides.html\n",
      "6-1_matplotlib.ipynb\n",
      "6-1_matplotlib.pdf\n",
      "6-1_matplotlib.slides.html\n",
      "6-2_Seaborn.ipynb\n",
      "6-2_Seaborn.pdf\n",
      "6-2_Seaborn.slides.html\n",
      "6-3_statsmodels.ipynb\n",
      "6-3_statsmodels.slides.html\n",
      "7-1_object_oriented_programming.ipynb\n",
      "7-1_object_oriented_programming.pdf\n",
      "7-1_object_oriented_programming.slides.html\n",
      "7-3_OOP_inheritance.ipynb\n",
      "7-3_OOP_inheritance.pdf\n",
      "7-3_OOP_inheritance.slides.html\n",
      "8-1_more_OOP_methods.ipynb\n",
      "8-1_more_OOP_methods.pdf\n",
      "8-1_more_OOP_methods.slides.html\n",
      "8-2_Python_features.ipynb\n",
      "8-2_Python_features.pdf\n",
      "8-2_Python_features.slides.html\n",
      "8-3_sklearn_basics.ipynb\n",
      "9-1_traintestsplit_gridsearchcv.ipynb\n",
      "9-2_sklearn_classification.ipynb\n",
      "Chinook_Sqlite.sqlite\n",
      "README.md\n",
      "captions.bak\n",
      "captions.dat\n",
      "captions.dir\n",
      "ironslag.csv\n",
      "macrodata.csv\n",
      "objects.pkl\n",
      "output.txt\n",
      "script01.py\n",
      "script02.py\n"
     ]
    }
   ],
   "source": [
    "!ls"
   ]
  },
  {
   "cell_type": "code",
   "execution_count": 15,
   "metadata": {
    "slideshow": {
     "slide_type": "fragment"
    }
   },
   "outputs": [
    {
     "name": "stdout",
     "output_type": "stream",
     "text": [
      "/bin/bash: line 0: type: script02.py: not found\n"
     ]
    }
   ],
   "source": [
    "# windows\n",
    "!type script02.py"
   ]
  },
  {
   "cell_type": "code",
   "execution_count": 17,
   "metadata": {},
   "outputs": [
    {
     "name": "stdout",
     "output_type": "stream",
     "text": [
      "/bin/bash: dir: command not found\n"
     ]
    }
   ],
   "source": [
    "!dir"
   ]
  },
  {
   "cell_type": "markdown",
   "metadata": {
    "slideshow": {
     "slide_type": "slide"
    }
   },
   "source": [
    "## The last output value\n",
    "\n",
    "You can access the last value output using a single underscore character _"
   ]
  },
  {
   "cell_type": "code",
   "execution_count": 18,
   "metadata": {
    "slideshow": {
     "slide_type": "fragment"
    }
   },
   "outputs": [
    {
     "data": {
      "text/plain": [
       "27"
      ]
     },
     "execution_count": 18,
     "metadata": {},
     "output_type": "execute_result"
    }
   ],
   "source": [
    "3 * 9"
   ]
  },
  {
   "cell_type": "code",
   "execution_count": 21,
   "metadata": {
    "slideshow": {
     "slide_type": "fragment"
    }
   },
   "outputs": [
    {
     "data": {
      "text/plain": [
       "21"
      ]
     },
     "execution_count": 21,
     "metadata": {},
     "output_type": "execute_result"
    }
   ],
   "source": [
    "# _ => the last immediate value outputted (not the value from last cell)\n",
    "# changes/updates each time we run constantly\n",
    "_ - 2"
   ]
  },
  {
   "cell_type": "code",
   "execution_count": 23,
   "metadata": {
    "slideshow": {
     "slide_type": "fragment"
    }
   },
   "outputs": [
    {
     "data": {
      "text/plain": [
       "21"
      ]
     },
     "execution_count": 23,
     "metadata": {},
     "output_type": "execute_result"
    }
   ],
   "source": [
    "_"
   ]
  },
  {
   "cell_type": "markdown",
   "metadata": {
    "slideshow": {
     "slide_type": "slide"
    }
   },
   "source": [
    "## Help"
   ]
  },
  {
   "cell_type": "code",
   "execution_count": 24,
   "metadata": {
    "slideshow": {
     "slide_type": "fragment"
    }
   },
   "outputs": [
    {
     "name": "stdout",
     "output_type": "stream",
     "text": [
      "Help on built-in function print in module builtins:\n",
      "\n",
      "print(...)\n",
      "    print(value, ..., sep=' ', end='\\n', file=sys.stdout, flush=False)\n",
      "    \n",
      "    Prints the values to a stream, or to sys.stdout by default.\n",
      "    Optional keyword arguments:\n",
      "    file:  a file-like object (stream); defaults to the current sys.stdout.\n",
      "    sep:   string inserted between values, default a space.\n",
      "    end:   string appended after the last value, default a newline.\n",
      "    flush: whether to forcibly flush the stream.\n",
      "\n"
     ]
    }
   ],
   "source": [
    "help(print)"
   ]
  },
  {
   "cell_type": "code",
   "execution_count": 25,
   "metadata": {},
   "outputs": [
    {
     "data": {
      "text/plain": [
       "\u001b[0;31mDocstring:\u001b[0m\n",
       "print(value, ..., sep=' ', end='\\n', file=sys.stdout, flush=False)\n",
       "\n",
       "Prints the values to a stream, or to sys.stdout by default.\n",
       "Optional keyword arguments:\n",
       "file:  a file-like object (stream); defaults to the current sys.stdout.\n",
       "sep:   string inserted between values, default a space.\n",
       "end:   string appended after the last value, default a newline.\n",
       "flush: whether to forcibly flush the stream.\n",
       "\u001b[0;31mType:\u001b[0m      builtin_function_or_method\n"
      ]
     },
     "metadata": {},
     "output_type": "display_data"
    }
   ],
   "source": [
    "?print"
   ]
  },
  {
   "cell_type": "markdown",
   "metadata": {
    "slideshow": {
     "slide_type": "slide"
    }
   },
   "source": [
    "# Important Notes about Python Syntax\n",
    "##### based on A Whirlwind Tour of Python by Jake VanderPlas\n",
    "### Comments Are Marked by `#`"
   ]
  },
  {
   "cell_type": "code",
   "execution_count": 20,
   "metadata": {
    "slideshow": {
     "slide_type": "fragment"
    }
   },
   "outputs": [],
   "source": [
    "# this is a comment and is not run"
   ]
  },
  {
   "cell_type": "markdown",
   "metadata": {
    "slideshow": {
     "slide_type": "slide"
    }
   },
   "source": [
    "### Lines\n",
    "The end of a line terminates a statement. No need for using a semi-colon to end a statement ; although you can optionally use the semi-colon to write two statements in one line.\n",
    "\n",
    "If you want to have a single statement cover multiple lines, you can use a backslash \\ or encase the statement in parenthesis. If you are defining a list or other data structure that already uses some sort of bracket, this is handled automatically."
   ]
  },
  {
   "cell_type": "code",
   "execution_count": 26,
   "metadata": {
    "slideshow": {
     "slide_type": "fragment"
    }
   },
   "outputs": [
    {
     "name": "stdout",
     "output_type": "stream",
     "text": [
      "5\n"
     ]
    }
   ],
   "source": [
    "# examples\n",
    "x = 5\n",
    "print(x)"
   ]
  },
  {
   "cell_type": "code",
   "execution_count": 27,
   "metadata": {
    "slideshow": {
     "slide_type": "fragment"
    }
   },
   "outputs": [
    {
     "name": "stdout",
     "output_type": "stream",
     "text": [
      "13\n"
     ]
    }
   ],
   "source": [
    "# semicolon to include multiple statements in one line, bad style though\n",
    "y = 6; z = 7\n",
    "print(y + z)"
   ]
  },
  {
   "cell_type": "markdown",
   "metadata": {
    "slideshow": {
     "slide_type": "fragment"
    }
   },
   "source": [
    "Having multiple statements in one line is generally considered bad style and should be avoided."
   ]
  },
  {
   "cell_type": "code",
   "execution_count": 28,
   "metadata": {
    "slideshow": {
     "slide_type": "slide"
    }
   },
   "outputs": [
    {
     "name": "stdout",
     "output_type": "stream",
     "text": [
      "15\n"
     ]
    }
   ],
   "source": [
    "# backslash to continue a statement over multiple lines\n",
    "a = 1 + 2 + 3 \\\n",
    "    + 4 + 5\n",
    "print(a)"
   ]
  },
  {
   "cell_type": "code",
   "execution_count": 29,
   "metadata": {
    "slideshow": {
     "slide_type": "fragment"
    }
   },
   "outputs": [
    {
     "name": "stdout",
     "output_type": "stream",
     "text": [
      "15\n"
     ]
    }
   ],
   "source": [
    "# or use parenthesis\n",
    "b = (1 + 2 + 3\n",
    "    + 4 + 5)\n",
    "print(b)"
   ]
  },
  {
   "cell_type": "code",
   "execution_count": 30,
   "metadata": {},
   "outputs": [
    {
     "ename": "SyntaxError",
     "evalue": "invalid syntax (1983514095.py, line 1)",
     "output_type": "error",
     "traceback": [
      "\u001b[0;36m  File \u001b[0;32m\"/var/folders/dc/drpz_2c92bnfhq90x8nc74lw0000gn/T/ipykernel_12461/1983514095.py\"\u001b[0;36m, line \u001b[0;32m1\u001b[0m\n\u001b[0;31m    c=1+2+3+\u001b[0m\n\u001b[0m            ^\u001b[0m\n\u001b[0;31mSyntaxError\u001b[0m\u001b[0;31m:\u001b[0m invalid syntax\n"
     ]
    }
   ],
   "source": [
    "c=1+2+3+\n",
    "4+5\n",
    "c"
   ]
  },
  {
   "cell_type": "code",
   "execution_count": 31,
   "metadata": {},
   "outputs": [
    {
     "data": {
      "text/plain": [
       "15"
      ]
     },
     "execution_count": 31,
     "metadata": {},
     "output_type": "execute_result"
    }
   ],
   "source": [
    "d=(1+2+3+\n",
    "4+5)\n",
    "d"
   ]
  },
  {
   "cell_type": "code",
   "execution_count": 32,
   "metadata": {
    "slideshow": {
     "slide_type": "fragment"
    }
   },
   "outputs": [
    {
     "name": "stdout",
     "output_type": "stream",
     "text": [
      "['a', 2, 3, 'd', 'e', 6]\n"
     ]
    }
   ],
   "source": [
    "l = ['a', 2, 3, 'd',\n",
    "    'e', 6]\n",
    "print(l)"
   ]
  },
  {
   "cell_type": "markdown",
   "metadata": {
    "slideshow": {
     "slide_type": "slide"
    }
   },
   "source": [
    "### Indentation defines code blocks\n",
    "\n",
    "Python does not use curly braces `{}` to define code blocks.\n",
    "IPython is smart enough to automatically indent lines after you use a colon `:` which indicates that the following lines are part of a code block.\n",
    "\n",
    "We haven't covered conditionals yet, but I'll introduce them here briefly to show how code blocks work."
   ]
  },
  {
   "cell_type": "code",
   "execution_count": 33,
   "metadata": {
    "slideshow": {
     "slide_type": "fragment"
    }
   },
   "outputs": [
    {
     "name": "stdout",
     "output_type": "stream",
     "text": [
      "x is greater than 5\n",
      "8\n",
      "hello\n"
     ]
    }
   ],
   "source": [
    "# we will learn if statements later, but here's an example\n",
    "x = 8\n",
    "if(x > 5):\n",
    "    print('x is greater than 5')   # the two indented lines only run \n",
    "    print(x)                       # when the if statement is true\n",
    "print('hello') # this line is not indented, will run regardless of if statement"
   ]
  },
  {
   "cell_type": "code",
   "execution_count": 34,
   "metadata": {
    "slideshow": {
     "slide_type": "slide"
    }
   },
   "outputs": [
    {
     "name": "stdout",
     "output_type": "stream",
     "text": [
      "hello\n"
     ]
    }
   ],
   "source": [
    "x = 4\n",
    "if(x > 5):\n",
    "    print('x is greater than 5')   # the two indented lines only run \n",
    "    print(x)                       # when the if statement is true\n",
    "print('hello') # this line is not indented, will run regardless of if statement"
   ]
  },
  {
   "cell_type": "code",
   "execution_count": 37,
   "metadata": {
    "slideshow": {
     "slide_type": "slide"
    }
   },
   "outputs": [
    {
     "name": "stdout",
     "output_type": "stream",
     "text": [
      "4\n",
      "hello\n"
     ]
    }
   ],
   "source": [
    "x = 4\n",
    "if(x > 5):\n",
    "    print('x is greater than 5')\n",
    "print(x)\n",
    "print('hello')"
   ]
  }
 ],
 "metadata": {
  "celltoolbar": "Slideshow",
  "kernelspec": {
   "display_name": "Python 3 (ipykernel)",
   "language": "python",
   "name": "python3"
  },
  "language_info": {
   "codemirror_mode": {
    "name": "ipython",
    "version": 3
   },
   "file_extension": ".py",
   "mimetype": "text/x-python",
   "name": "python",
   "nbconvert_exporter": "python",
   "pygments_lexer": "ipython3",
   "version": "3.8.11"
  }
 },
 "nbformat": 4,
 "nbformat_minor": 4
}
